{
 "cells": [
  {
   "cell_type": "markdown",
   "metadata": {},
   "source": []
  },
  {
   "cell_type": "code",
   "execution_count": 5,
   "metadata": {},
   "outputs": [],
   "source": [
    "from ipywidgets import interact, interactive, fixed\n",
    "import ipywidgets as widgets\n",
    "import matplotlib.pyplot as plt\n",
    "import numpy as np\n",
    "from cgc_funcs import calculate_C, p_ox\n",
    "from pandas import read_excel, read_csv\n",
    "from io_tools import sim_path\n",
    "import plot_settings # my personal default settings for matplotlib"
   ]
  },
  {
   "cell_type": "markdown",
   "metadata": {},
   "source": [
    "Stovanovic (2006) approximation for Inductance, solve for N"
   ]
  },
  {
   "cell_type": "code",
   "execution_count": 4,
   "metadata": {},
   "outputs": [
    {
     "name": "stdout",
     "output_type": "stream",
     "text": [
      "('Calculated number of half-turns: ', 26)\n",
      "Calculated length: 1013.49 um \n"
     ]
    }
   ],
   "source": [
    "H = 100\n",
    "W = 10\n",
    "d = 30\n",
    "A = 100\n",
    "L = 3.2\n",
    "\n",
    "estimate_N_turns = lambda L,a,h,d,w: ( L/(.00266*a**.0603 * h**0.4429 * d**0.606 * w**(-.173)) )**(1/.954)\n",
    "L_tot = lambda a,N,d: (N+1)*d+2*a\n",
    "\n",
    "Ntot = estimate_N_turns(L,A,H,d,W)\n",
    "length = L_tot(A,Ntot,d)\n",
    "\n",
    "print(\"Calculated number of half-turns: \", int(Ntot))\n",
    "print(\"Calculated length: %5.2f um \" % length)"
   ]
  },
  {
   "cell_type": "markdown",
   "metadata": {},
   "source": [
    "**Calculating parallel plate capacitance**\n",
    "\n",
    "Calculate the capacitance for our base design using the standard formula for a parallel plate capacitor, neglecting fringe fields and metal oxide:"
   ]
  },
  {
   "cell_type": "code",
   "execution_count": 10,
   "metadata": {},
   "outputs": [
    {
     "data": {
      "text/plain": [
       "7.964999999999998e-14"
      ]
     },
     "execution_count": 10,
     "metadata": {},
     "output_type": "execute_result"
    }
   ],
   "source": [
    "eps0 = 8.85*10**(-12)\n",
    "A_base =(300 * 10**(-6))**2 # initial capacitor: 300 um x 300 um square\n",
    "d_base = 10 * 10**(-6) # initial cap spacing is 10 um\n",
    "\n",
    "calculate_C(eps0, A_base, d_base)\n",
    "#interact(calculate_C, A=fixed(A_base), d=(1E-6, 15E-6, 1E-6))\n"
   ]
  },
  {
   "cell_type": "markdown",
   "metadata": {},
   "source": [
    "**Calculating oxide participation ratio**\n",
    "\n",
    "The oxide participation ratio is derived in Appendix A of the accompanying report. This will vary inversely with the size of the capacitor gap, eventually reaching a point where additional gap size doesn't reduce $p_{ox}$ any further"
   ]
  },
  {
   "cell_type": "code",
   "execution_count": 11,
   "metadata": {},
   "outputs": [],
   "source": [
    "t = 5E-9 # 5 nm oxide thickness\n",
    "eps_r = 10 # relative permittivity of oxide\n",
    "d_arr = np.linspace(1,20,1000) # FYI: I'm scaling everything by 10E6 for simpler plot\n",
    "\n",
    "#normalize the dimensions of the device to microns\n",
    "pox_arr = p_ox(A_base*1E12, t*1E6, d_arr, eps_r )\n",
    "\n",
    "\n"
   ]
  },
  {
   "cell_type": "markdown",
   "metadata": {},
   "source": [
    "Get the simulated results and plot against the analytical results for comparison"
   ]
  },
  {
   "cell_type": "code",
   "execution_count": 22,
   "metadata": {},
   "outputs": [],
   "source": [
    "pox_sim = \"%s\\%s\" % (sim_path, \"pox_t=5_L=300.csv\")\n",
    "pox_df = read_csv(pox_sim)\n",
    "FACTOR = 1E4\n",
    "\n",
    "fig = plt.figure(figsize=(9,9))\n",
    "ax = fig.add_subplot(111)\n",
    "# plot participation x FACTOR\n",
    "ax.plot(d_arr, pox_arr*FACTOR)\n",
    "ax.plot(pox_df.loc[:, \"d [um]\"], pox_df.loc[:,\"F_ox []\"]*FACTOR)\n",
    "ax.set_title(r'Analytical vs Simulated $p_{ox}$')\n",
    "ax.set_xlabel(\"d [um]\")\n",
    "ax.set_ylabel(r'$p_{ox} \\times 10^{-4}$')\n",
    "plt.grid()\n",
    "ax.legend([\"analytical\", \"simulated\"])\n",
    "plt.savefig(plot_settings.FIG_DIR+\"p_ox\")\n"
   ]
  },
  {
   "cell_type": "markdown",
   "metadata": {},
   "source": [
    "Great agreement!"
   ]
  },
  {
   "cell_type": "markdown",
   "metadata": {},
   "source": [
    "**Simulating fringe participation**\n",
    "\n",
    "Increasing the capacitor gap $d$ drives down $p_{ox}$, but also starts to invalidate the $L>>d$ approximation for parallel plate capacitance. I simulated this effect as follows:"
   ]
  },
  {
   "cell_type": "code",
   "execution_count": 23,
   "metadata": {},
   "outputs": [],
   "source": [
    "pvac_sim = \"%s\\%s\" % (sim_path, \"pvac_t=5_L=300.csv\")\n",
    "pvac_df = read_csv(pvac_sim)\n",
    "\n",
    "fig = plt.figure(figsize=(10,10))\n",
    "ax = fig.add_subplot(111)\n",
    "ax.plot(pox_df.loc[:, \"d [um]\"], pvac_df.loc[:,\"F_gap []\"])\n",
    "ax.plot(pox_df.loc[:, \"d [um]\"], pvac_df.loc[:,\"F_fringe []\"])\n",
    "ax.set_xlabel(\"d [um]\")\n",
    "ax.set_ylabel(\"participation [-]\")\n",
    "plt.grid()\n",
    "ax.legend([\"gap\", \"fringe\"])\n",
    "plt.savefig(plot_settings.FIG_DIR+\"p_vac_p_gap\")\n",
    "\n"
   ]
  },
  {
   "cell_type": "code",
   "execution_count": null,
   "metadata": {},
   "outputs": [],
   "source": []
  },
  {
   "cell_type": "markdown",
   "metadata": {},
   "source": []
  },
  {
   "cell_type": "code",
   "execution_count": 9,
   "metadata": {},
   "outputs": [],
   "source": []
  },
  {
   "cell_type": "code",
   "execution_count": null,
   "metadata": {},
   "outputs": [],
   "source": []
  }
 ],
 "metadata": {
  "kernelspec": {
   "display_name": "Python 2",
   "language": "python",
   "name": "python2"
  },
  "language_info": {
   "codemirror_mode": {
    "name": "ipython",
    "version": 2
   },
   "file_extension": ".py",
   "mimetype": "text/x-python",
   "name": "python",
   "nbconvert_exporter": "python",
   "pygments_lexer": "ipython2",
   "version": "2.7.14"
  }
 },
 "nbformat": 4,
 "nbformat_minor": 2
}
