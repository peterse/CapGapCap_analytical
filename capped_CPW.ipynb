{
 "cells": [
  {
   "cell_type": "markdown",
   "metadata": {},
   "source": [
    "## Analytical and simulated capped CPW\n",
    "\n",
    "Analysis of Dunsworth (2018) expression for $p_{ox}$, CR McRae (2017) expression for capped vs uncapped Q, and my own models for loss in a CPW resonator when an oxide is present. Comparison to HFSS simulations to find $p_{ox}$, $p_{ms}$, and $p_{ma}$"
   ]
  },
  {
   "cell_type": "code",
   "execution_count": 2,
   "metadata": {},
   "outputs": [],
   "source": [
    "from scipy.special import ellipk as K\n",
    "import numpy as np\n",
    "from numpy import sinh, tanh\n",
    "import matplotlib.pyplot as plt\n",
    "import plot_settings # my personal default settings for matplotlib"
   ]
  },
  {
   "cell_type": "markdown",
   "metadata": {},
   "source": [
    "_Define elliptic function arguments as found in Simons, Section 2_"
   ]
  },
  {
   "cell_type": "code",
   "execution_count": 2,
   "metadata": {},
   "outputs": [],
   "source": [
    "def get_k0(S,W, h):\n",
    "    # conf parameter for isolated CPW, infinite substrate\n",
    "    # dummy h left in for get_kprime input uniformity\n",
    "    return S/(S+2*W)\n",
    "\n",
    "def get_k12(S,W,h):\n",
    "    # conf parameter for dielectrics below (1) or above(2) CPW\n",
    "    return sinh(np.pi*S/(4*h))/sinh(np.pi*(S+2*W)/(4*h))\n",
    "\n",
    "def get_k34(S,W,h):\n",
    "    # conf parameter for ground plane below (3) or above (4) CPW\n",
    "    return tanh(np.pi*S/(4*h))/tanh(np.pi*(S+2*W)/(4*h))\n",
    "\n",
    "def get_kprime(S,W,h,kfunc):\n",
    "    # passed a k_i parameter, return the respective kprime\n",
    "    return np.sqrt(1-kfunc(S,W,h)**2)\n",
    "\n",
    "def G(k, kprime):\n",
    "    return K(k)/K(kprime)\n",
    "\n",
    "def get_qi0(S, W, hi):\n",
    "    # return either q10 or q20 - see N3-132\n",
    "    return G(S, W, hi, k12)/(2*G(S, W, hi, k0))\n",
    "\n",
    "def get_q3(S, W, hi, h4):\n",
    "    # return either q3 or q2 - see N3-132\n",
    "    \n",
    "    k0 = get_k0(S, W, None)\n",
    "    k0prime = get_kprime(S, W, None, get_k0)\n",
    "    \n",
    "    ki = get_k12(S, W, hi)\n",
    "    kiprime = get_kprime(S, W, hi, get_k12)\n",
    "    \n",
    "    k4 = get_k34(S, W, h4)\n",
    "    k4prime = get_kprime(S, W, h4, get_k34)\n",
    "    \n",
    "    # Equation 2.40 from Simons\n",
    "    return G(ki, kiprime)/(G(k0, k0prime) + G(k4, k4prime))\n",
    "    \n",
    "\n"
   ]
  },
  {
   "cell_type": "markdown",
   "metadata": {},
   "source": [
    "_Define functions for analytical quality factor ratios_"
   ]
  },
  {
   "cell_type": "code",
   "execution_count": 3,
   "metadata": {},
   "outputs": [],
   "source": [
    "def Q_Qcap(S, W, h1, h4, epsr_1):\n",
    "    \"\"\"\n",
    "    Compute the ratio of uncapped CPW to capped CPW - see\n",
    "    N3-121:132 for derivations etc.\n",
    "    args:\n",
    "        S - central conductor width for CPW\n",
    "        W - CPW gap to ground\n",
    "        h1 - substrate thickness \n",
    "        h4 - cap height\n",
    "        epsr_1 - substrate relative permittivity\n",
    "    \"\"\"\n",
    "    # ratio of qualities for uncapped/capped resonator quality \n",
    "    # h4 is the height of the cap, h1 is the subs\n",
    "    # CR McRae (2017)\n",
    "    \n",
    "    q3 = get_q3(S, W, h1, h4)\n",
    "    top = (1+epsr_1)*q3\n",
    "    bot = (epsr_1 - 1)*q3 +1\n",
    "    return top/bot\n",
    "    \n",
    "    return\n",
    "\n",
    "def Q_Qcap_ox(S, W, h1, h2, h4, epsr_1, epsr_2):\n",
    "    \"\"\"\n",
    "    Compute the ratio of uncapped+oxide CPW to capped+oxide CPE - see\n",
    "    N3-121:132 for derivations etc.\n",
    "    args:\n",
    "        S - central conductor width for CPW\n",
    "        W - CPW gap to ground\n",
    "        h1 - substrate thickness \n",
    "        h2 - surface \"oxide\" thickness\n",
    "        h4 - cap height\n",
    "        epsr_1 - substrate relative permittivity\n",
    "        epsr_2 - surface \"oxide\" relative permittivity\n",
    "    \"\"\"\n",
    "    q1 = get_q3(S, W, h1, h4)\n",
    "    q2 = get_q3(S, W, h2, h4) # overloading q3 func\n",
    "    q10 = get_qi0(S, W, h1)\n",
    "    q20 = get_qi0(S, W, h2)\n",
    "    \n",
    "    top = 1 + (epsr_1 -1)*q10 + (epsr_2 -1)*q20 # ~ Q for ox, no cap\n",
    "    bot = 1 + (epsr_1 -1)*q1 + (epsr_2 -1)*q2 # ~ Q for ox, with cap\n",
    "    \n",
    "    \n",
    "    return top/bot\n",
    "\n"
   ]
  },
  {
   "cell_type": "markdown",
   "metadata": {},
   "source": [
    "### Sample analysis \n",
    "\n",
    "Plot ratios of Qcpw/Qcap and Q_cpw(ox)/Qcap(ox)"
   ]
  },
  {
   "cell_type": "code",
   "execution_count": null,
   "metadata": {},
   "outputs": [],
   "source": [
    "# CPW parameters, all in um\n",
    "H1 = 500 # standard substrate\n",
    "H2 = .01 # 10 nm oxide\n",
    "H4 = 20 # base height for cap\n",
    "S = 15\n",
    "W = 9\n",
    "EPSR_1 = 10 # Silicon \n",
    "EPSR_2 = 10 # standard oxide approx\n",
    "\n",
    "fig = plt.figure(figsize=(9,9))\n",
    "ax = fig.add_subplot(111)\n",
    "ax.plot(d_arr, pox_arr)\n",
    "ax.plot(pox_df.loc[:, \"d [um]\"], pox_df.loc[:,\"F_ox []\"])\n",
    "ax.set_title(r'Analytical vs Simulated $p_{ox}$')\n",
    "ax.set_xlabel(\"d [um]\")\n",
    "ax.set_ylabel(r'$p_{ox}$')\n",
    "plt.grid()\n",
    "ax.legend([\"analytical\", \"simulated\"])\n",
    "plt.savefig(plot_settings.FIG_DIR+\"p_ox\")\n"
   ]
  }
 ],
 "metadata": {
  "kernelspec": {
   "display_name": "Python 2",
   "language": "python",
   "name": "python2"
  },
  "language_info": {
   "codemirror_mode": {
    "name": "ipython",
    "version": 2
   },
   "file_extension": ".py",
   "mimetype": "text/x-python",
   "name": "python",
   "nbconvert_exporter": "python",
   "pygments_lexer": "ipython2",
   "version": "2.7.14"
  }
 },
 "nbformat": 4,
 "nbformat_minor": 2
}
