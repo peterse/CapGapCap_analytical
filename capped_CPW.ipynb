{
 "cells": [
  {
   "cell_type": "markdown",
   "metadata": {},
   "source": [
    "## Analytical and simulated capped CPW\n",
    "\n",
    "Analysis of Dunsworth (2018) expression for $p_{ox}$, CR McRae (2017) expression for capped vs uncapped Q, and my own models for loss in a CPW resonator when an oxide is present. Comparison to HFSS simulations to find $p_{ox}$, $p_{ms}$, and $p_{ma}$"
   ]
  },
  {
   "cell_type": "code",
   "execution_count": 2,
   "metadata": {},
   "outputs": [],
   "source": [
    "from scipy.special import ellipk as K\n",
    "import numpy as np\n",
    "from numpy import sinh, tanh"
   ]
  },
  {
   "cell_type": "markdown",
   "metadata": {},
   "source": [
    "_Define elliptic function arguments as found in Simons, Section 2_"
   ]
  },
  {
   "cell_type": "code",
   "execution_count": 5,
   "metadata": {},
   "outputs": [],
   "source": [
    "def k0(S,W,h):\n",
    "    # conf parameter for isolated CPW, infinite substrate\n",
    "    return S/(S+2*W)\n",
    "\n",
    "def k12(S,W,h):\n",
    "    # conf parameter for dielectrics below (1) or above(2) CPW\n",
    "    return sinh(np.pi*S/(4*h))/sinh(np.pi*(S+2*W)/(4*h))\n",
    "\n",
    "def k34(S,W,h):\n",
    "    # conf parameter for ground plane below (3) or above (4) CPW\n",
    "    return tanh(np.pi*S/(4*h))/tanh(np.pi*(S+2*W)/(4*h))\n",
    "\n",
    "def kprime(S,W,h,kfunc):\n",
    "    # passed a k_i parameter, return the respective kprime\n",
    "    return np.sqrt(1-kfunc(S,W,h)**2)\n",
    "\n",
    "def G(S, W, h, kfunc):\n",
    "    return K(kfunc(S, W, h))/K(kprime(S, W, h, kfunc))\n",
    "\n",
    "def qi(S, W, hi, h4):\n",
    "    # return either q1 or q2 - see N3-132\n",
    "    top = G(S, W, hi, k12)\n",
    "    bot = G(S, W, h1, k0) + G(S, W, h1, k4)\n",
    "    return top/bot\n",
    "\n",
    "def qi0(S, W, hi):\n",
    "    return G(S, W, hi, k12)/(2*G(S, W, hi, k0))\n",
    "\n",
    "def q3(S, W, h1, h4):\n",
    "    top = G(S, W, h1, k12)\n",
    "    bot = G(S, W, h1, k0) + G(S, W, h1, k4)\n",
    "    return top/bot\n",
    "\n",
    "\n"
   ]
  },
  {
   "cell_type": "markdown",
   "metadata": {},
   "source": [
    "_Define functions for analytical quality factor ratios_"
   ]
  },
  {
   "cell_type": "code",
   "execution_count": null,
   "metadata": {},
   "outputs": [],
   "source": [
    "def Q_Qcap(S, W, h1, h4, epsr_1):\n",
    "    # ratio of qualities for uncapped/capped resonator quality \n",
    "    # CR McRae (2017)\n",
    "    return\n",
    "\n",
    "def Q_Qcap_ox(S, W, h1, h2, h4, epsr_1, epsr_2):\n",
    "    # ratios of qualities for uncapped/capped res WITH oxide\n",
    "    # N3-129\n",
    "    return\n",
    "\n"
   ]
  }
 ],
 "metadata": {
  "kernelspec": {
   "display_name": "Python 3",
   "language": "python",
   "name": "python3"
  },
  "language_info": {
   "codemirror_mode": {
    "name": "ipython",
    "version": 3
   },
   "file_extension": ".py",
   "mimetype": "text/x-python",
   "name": "python",
   "nbconvert_exporter": "python",
   "pygments_lexer": "ipython3",
   "version": "3.5.4"
  }
 },
 "nbformat": 4,
 "nbformat_minor": 2
}
